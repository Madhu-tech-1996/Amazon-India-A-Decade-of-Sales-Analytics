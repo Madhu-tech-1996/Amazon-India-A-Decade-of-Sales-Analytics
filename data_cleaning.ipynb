{
 "cells": [
  {
   "cell_type": "code",
   "execution_count": 4,
   "id": "e0572e34",
   "metadata": {},
   "outputs": [
    {
     "name": "stdout",
     "output_type": "stream",
     "text": [
      "Requirement already satisfied: pandas in c:\\users\\surya\\appdata\\local\\programs\\python\\python312\\lib\\site-packages (2.3.2)\n",
      "Requirement already satisfied: numpy>=1.26.0 in c:\\users\\surya\\appdata\\local\\programs\\python\\python312\\lib\\site-packages (from pandas) (2.3.2)\n",
      "Requirement already satisfied: python-dateutil>=2.8.2 in c:\\users\\surya\\appdata\\roaming\\python\\python312\\site-packages (from pandas) (2.9.0.post0)\n",
      "Requirement already satisfied: pytz>=2020.1 in c:\\users\\surya\\appdata\\local\\programs\\python\\python312\\lib\\site-packages (from pandas) (2025.2)\n",
      "Requirement already satisfied: tzdata>=2022.7 in c:\\users\\surya\\appdata\\local\\programs\\python\\python312\\lib\\site-packages (from pandas) (2025.2)\n",
      "Requirement already satisfied: six>=1.5 in c:\\users\\surya\\appdata\\roaming\\python\\python312\\site-packages (from python-dateutil>=2.8.2->pandas) (1.17.0)\n",
      "Note: you may need to restart the kernel to use updated packages.\n"
     ]
    },
    {
     "name": "stderr",
     "output_type": "stream",
     "text": [
      "\n",
      "[notice] A new release of pip is available: 24.3.1 -> 25.2\n",
      "[notice] To update, run: python.exe -m pip install --upgrade pip\n"
     ]
    }
   ],
   "source": [
    "pip install pandas\n"
   ]
  },
  {
   "cell_type": "code",
   "execution_count": 2,
   "id": "3f3e68ca",
   "metadata": {},
   "outputs": [
    {
     "name": "stdout",
     "output_type": "stream",
     "text": [
      "Total files found: 11\n"
     ]
    }
   ],
   "source": [
    "import os\n",
    "import pandas as pd\n",
    "import glob\n",
    "\n",
    "files = glob.glob(r\"C:\\code\\Amazon_India_Analytics\\data\\raw\\*.csv\")\n",
    "print(\"Total files found:\", len(files))\n",
    "\n",
    "for f in files:\n",
    "    if os.path.getsize(f) == 0:\n",
    "        print(\"❌ Empty file:\", f)\n"
   ]
  },
  {
   "cell_type": "code",
   "execution_count": 3,
   "id": "ce33f1df",
   "metadata": {},
   "outputs": [
    {
     "name": "stdout",
     "output_type": "stream",
     "text": [
      "✅ Merge complete\n"
     ]
    }
   ],
   "source": [
    "df_list = []\n",
    "for file in files:\n",
    "    try:\n",
    "        if os.path.getsize(file) > 0:   # skip empty files\n",
    "            df = pd.read_csv(file)\n",
    "            df[\"source_file\"] = os.path.basename(file)   # optional\n",
    "            df_list.append(df)\n",
    "        else:\n",
    "            print(\"⚠️ Skipping empty file:\", file)\n",
    "    except Exception as e:\n",
    "        print(\"⚠️ Error reading\", file, \":\", e)\n",
    "\n",
    "merged_df = pd.concat(df_list, ignore_index=True)\n",
    "merged_df.to_csv(r\"C:\\code\\Amazon_India_Analytics\\amazon_sales_2015_2025.csv\", index=False)\n",
    "\n",
    "print(\"✅ Merge complete\")\n"
   ]
  },
  {
   "cell_type": "code",
   "execution_count": 6,
   "id": "b2cd60a4",
   "metadata": {},
   "outputs": [
    {
     "name": "stdout",
     "output_type": "stream",
     "text": [
      "                transaction_id  order_date         customer_id   product_id  \\\n",
      "0            TXN_2015_00000001  2015-01-25  CUST_2015_00003884  PROD_000021   \n",
      "1            TXN_2015_00000002  2015-01-05  CUST_2015_00011709  PROD_000055   \n",
      "2            TXN_2015_00000003  2015-01-24  CUST_2015_00004782  PROD_000039   \n",
      "3            TXN_2015_00000004  2015-01-28  CUST_2015_00008105  PROD_000085   \n",
      "4            TXN_2015_00000005  2015-01-31  CUST_2015_00002955  PROD_000055   \n",
      "...                        ...         ...                 ...          ...   \n",
      "1127604  TXN_2025_00019019_DUP  2025-04-07  CUST_2022_00004500  PROD_000136   \n",
      "1127605  TXN_2025_00053859_DUP  09-10-2025  CUST_2025_00013666  PROD_000527   \n",
      "1127606  TXN_2025_00030006_DUP  2025-06-29  CUST_2025_00011941  PROD_000839   \n",
      "1127607  TXN_2025_00066716_DUP  2025-11-21  CUST_2025_00000199  PROD_001581   \n",
      "1127608  TXN_2025_00039367_DUP  2025-07-26  CUST_2025_00019685  PROD_001191   \n",
      "\n",
      "                                 product_name     category  subcategory  \\\n",
      "0                Samsung Galaxy S6 16GB Black  Electronics  Smartphones   \n",
      "1                OnePlus OnePlus 2 16GB White  Electronics  Smartphones   \n",
      "2            Samsung Galaxy Note 5 64GB Black  Electronics  Smartphones   \n",
      "3        Motorola Moto G (3rd Gen) 16GB Black  Electronics  Smartphones   \n",
      "4                OnePlus OnePlus 2 16GB White  Electronics  Smartphones   \n",
      "...                                       ...          ...          ...   \n",
      "1127604      Samsung Galaxy S7 Edge 16GB Blue  Electronics  Smartphones   \n",
      "1127605         Samsung Galaxy A50 64GB White  Electronics  Smartphones   \n",
      "1127606    Samsung Galaxy Note 21 256GB White  Electronics  Smartphones   \n",
      "1127607             ASUS Gaming 4GB RAM Black  Electronics      Laptops   \n",
      "1127608          Realme Realme C55 128GB Blue  Electronics  Smartphones   \n",
      "\n",
      "            brand original_price_inr  discount_percent  ...  \\\n",
      "0         Samsung          123614.29             27.91  ...   \n",
      "1         OnePlus           54731.86              0.00  ...   \n",
      "2         Samsung           97644.25             46.93  ...   \n",
      "3        Motorola          21,947.26              0.00  ...   \n",
      "4         OnePlus           54731.86              0.00  ...   \n",
      "...           ...                ...               ...  ...   \n",
      "1127604   Samsung           67658.04              0.00  ...   \n",
      "1127605   Samsung           19905.88             24.29  ...   \n",
      "1127606   Samsung           75655.18             30.26  ...   \n",
      "1127607      ASUS          125461.24              0.00  ...   \n",
      "1127608    Realme           15852.16              0.00  ...   \n",
      "\n",
      "             festival_name  customer_rating  return_status  order_month  \\\n",
      "0        Republic Day Sale              5.0      Delivered            1   \n",
      "1                      NaN              4.5      Delivered            1   \n",
      "2        Republic Day Sale              NaN      Delivered            1   \n",
      "3                      NaN              3.0      Delivered            1   \n",
      "4                      NaN              4.0      Delivered            1   \n",
      "...                    ...              ...            ...          ...   \n",
      "1127604                NaN              3.5      Delivered            4   \n",
      "1127605                NaN        3.5 stars      Delivered           10   \n",
      "1127606     Back to School              4.0      Delivered            6   \n",
      "1127607                NaN              4.5      Delivered           11   \n",
      "1127608                NaN              4.0      Delivered            7   \n",
      "\n",
      "         order_year order_quarter product_weight_kg is_prime_eligible  \\\n",
      "0              2015             1              0.19              True   \n",
      "1              2015             1              0.20              True   \n",
      "2              2015             1              0.17              True   \n",
      "3              2015             1              0.22              True   \n",
      "4              2015             1              0.20              True   \n",
      "...             ...           ...               ...               ...   \n",
      "1127604        2025             2              0.16              True   \n",
      "1127605        2025             4              0.20             False   \n",
      "1127606        2025             2              0.22              True   \n",
      "1127607        2025             4              2.57             False   \n",
      "1127608        2025             3              0.24              True   \n",
      "\n",
      "        product_rating            source_file  \n",
      "0                  4.7  amazon_india_2015.csv  \n",
      "1                  4.1  amazon_india_2015.csv  \n",
      "2                  3.3  amazon_india_2015.csv  \n",
      "3                  3.5  amazon_india_2015.csv  \n",
      "4                  4.1  amazon_india_2015.csv  \n",
      "...                ...                    ...  \n",
      "1127604            3.4  amazon_india_2025.csv  \n",
      "1127605            4.2  amazon_india_2025.csv  \n",
      "1127606            4.1  amazon_india_2025.csv  \n",
      "1127607            3.0  amazon_india_2025.csv  \n",
      "1127608            3.7  amazon_india_2025.csv  \n",
      "\n",
      "[1127609 rows x 35 columns]\n"
     ]
    }
   ],
   "source": [
    "import pandas as pd\n",
    "import numpy as np\n",
    "\n",
    "df = pd.read_csv(r\"C:\\code\\Amazon_India_Analytics\\data\\raw\\amazon_sales_2015_2025.csv\")\n",
    "\n",
    "print(df)"
   ]
  },
  {
   "cell_type": "code",
   "execution_count": 7,
   "id": "dbd85ec0",
   "metadata": {},
   "outputs": [
    {
     "name": "stdout",
     "output_type": "stream",
     "text": [
      "(1127609, 35)\n"
     ]
    }
   ],
   "source": [
    "print(df.shape)"
   ]
  },
  {
   "cell_type": "code",
   "execution_count": 8,
   "id": "651517dc",
   "metadata": {},
   "outputs": [
    {
     "name": "stdout",
     "output_type": "stream",
     "text": [
      "      transaction_id  order_date         customer_id   product_id  \\\n",
      "0  TXN_2015_00000001  2015-01-25  CUST_2015_00003884  PROD_000021   \n",
      "1  TXN_2015_00000002  2015-01-05  CUST_2015_00011709  PROD_000055   \n",
      "2  TXN_2015_00000003  2015-01-24  CUST_2015_00004782  PROD_000039   \n",
      "3  TXN_2015_00000004  2015-01-28  CUST_2015_00008105  PROD_000085   \n",
      "4  TXN_2015_00000005  2015-01-31  CUST_2015_00002955  PROD_000055   \n",
      "\n",
      "                           product_name     category  subcategory     brand  \\\n",
      "0          Samsung Galaxy S6 16GB Black  Electronics  Smartphones   Samsung   \n",
      "1          OnePlus OnePlus 2 16GB White  Electronics  Smartphones   OnePlus   \n",
      "2      Samsung Galaxy Note 5 64GB Black  Electronics  Smartphones   Samsung   \n",
      "3  Motorola Moto G (3rd Gen) 16GB Black  Electronics  Smartphones  Motorola   \n",
      "4          OnePlus OnePlus 2 16GB White  Electronics  Smartphones   OnePlus   \n",
      "\n",
      "  original_price_inr  discount_percent  ...      festival_name  \\\n",
      "0          123614.29             27.91  ...  Republic Day Sale   \n",
      "1           54731.86              0.00  ...                NaN   \n",
      "2           97644.25             46.93  ...  Republic Day Sale   \n",
      "3          21,947.26              0.00  ...                NaN   \n",
      "4           54731.86              0.00  ...                NaN   \n",
      "\n",
      "   customer_rating  return_status  order_month  order_year order_quarter  \\\n",
      "0              5.0      Delivered            1        2015             1   \n",
      "1              4.5      Delivered            1        2015             1   \n",
      "2              NaN      Delivered            1        2015             1   \n",
      "3              3.0      Delivered            1        2015             1   \n",
      "4              4.0      Delivered            1        2015             1   \n",
      "\n",
      "  product_weight_kg is_prime_eligible product_rating            source_file  \n",
      "0              0.19              True            4.7  amazon_india_2015.csv  \n",
      "1              0.20              True            4.1  amazon_india_2015.csv  \n",
      "2              0.17              True            3.3  amazon_india_2015.csv  \n",
      "3              0.22              True            3.5  amazon_india_2015.csv  \n",
      "4              0.20              True            4.1  amazon_india_2015.csv  \n",
      "\n",
      "[5 rows x 35 columns]\n"
     ]
    }
   ],
   "source": [
    "print(df.head())"
   ]
  },
  {
   "cell_type": "code",
   "execution_count": 9,
   "id": "17d09f82",
   "metadata": {},
   "outputs": [
    {
     "name": "stdout",
     "output_type": "stream",
     "text": [
      "                transaction_id  order_date         customer_id   product_id  \\\n",
      "1127604  TXN_2025_00019019_DUP  2025-04-07  CUST_2022_00004500  PROD_000136   \n",
      "1127605  TXN_2025_00053859_DUP  09-10-2025  CUST_2025_00013666  PROD_000527   \n",
      "1127606  TXN_2025_00030006_DUP  2025-06-29  CUST_2025_00011941  PROD_000839   \n",
      "1127607  TXN_2025_00066716_DUP  2025-11-21  CUST_2025_00000199  PROD_001581   \n",
      "1127608  TXN_2025_00039367_DUP  2025-07-26  CUST_2025_00019685  PROD_001191   \n",
      "\n",
      "                               product_name     category  subcategory  \\\n",
      "1127604    Samsung Galaxy S7 Edge 16GB Blue  Electronics  Smartphones   \n",
      "1127605       Samsung Galaxy A50 64GB White  Electronics  Smartphones   \n",
      "1127606  Samsung Galaxy Note 21 256GB White  Electronics  Smartphones   \n",
      "1127607           ASUS Gaming 4GB RAM Black  Electronics      Laptops   \n",
      "1127608        Realme Realme C55 128GB Blue  Electronics  Smartphones   \n",
      "\n",
      "           brand original_price_inr  discount_percent  ...   festival_name  \\\n",
      "1127604  Samsung           67658.04              0.00  ...             NaN   \n",
      "1127605  Samsung           19905.88             24.29  ...             NaN   \n",
      "1127606  Samsung           75655.18             30.26  ...  Back to School   \n",
      "1127607     ASUS          125461.24              0.00  ...             NaN   \n",
      "1127608   Realme           15852.16              0.00  ...             NaN   \n",
      "\n",
      "         customer_rating  return_status  order_month  order_year  \\\n",
      "1127604              3.5      Delivered            4        2025   \n",
      "1127605        3.5 stars      Delivered           10        2025   \n",
      "1127606              4.0      Delivered            6        2025   \n",
      "1127607              4.5      Delivered           11        2025   \n",
      "1127608              4.0      Delivered            7        2025   \n",
      "\n",
      "        order_quarter product_weight_kg is_prime_eligible product_rating  \\\n",
      "1127604             2              0.16              True            3.4   \n",
      "1127605             4              0.20             False            4.2   \n",
      "1127606             2              0.22              True            4.1   \n",
      "1127607             4              2.57             False            3.0   \n",
      "1127608             3              0.24              True            3.7   \n",
      "\n",
      "                   source_file  \n",
      "1127604  amazon_india_2025.csv  \n",
      "1127605  amazon_india_2025.csv  \n",
      "1127606  amazon_india_2025.csv  \n",
      "1127607  amazon_india_2025.csv  \n",
      "1127608  amazon_india_2025.csv  \n",
      "\n",
      "[5 rows x 35 columns]\n"
     ]
    }
   ],
   "source": [
    "print(df.tail())"
   ]
  },
  {
   "cell_type": "code",
   "execution_count": 10,
   "id": "a6aec225",
   "metadata": {},
   "outputs": [
    {
     "name": "stdout",
     "output_type": "stream",
     "text": [
      "       discount_percent  discounted_price_inr      quantity  subtotal_inr  \\\n",
      "count      1.127609e+06          1.127609e+06  1.127609e+06  1.127609e+06   \n",
      "mean       1.742035e+01          5.454134e+04  1.250063e+00  6.818740e+04   \n",
      "std        2.055377e+01          4.582480e+04  5.365034e-01  6.893407e+04   \n",
      "min        0.000000e+00          3.443300e+02  1.000000e+00  3.443300e+02   \n",
      "25%        0.000000e+00          2.278069e+04  1.000000e+00  2.521799e+04   \n",
      "50%        1.037000e+01          3.800119e+04  1.000000e+00  4.473182e+04   \n",
      "75%        2.841000e+01          7.410332e+04  1.000000e+00  8.852179e+04   \n",
      "max        7.000000e+01          4.207048e+05  3.000000e+00  1.262114e+06   \n",
      "\n",
      "       delivery_charges  final_amount_inr   order_month    order_year  \\\n",
      "count      1.037408e+06      1.127609e+06  1.127609e+06  1.127609e+06   \n",
      "mean       3.084611e-04      6.818740e+04  6.940627e+00  2.020637e+03   \n",
      "std        1.110782e-01      6.893407e+04  3.539183e+00  2.690906e+00   \n",
      "min        0.000000e+00      3.443300e+02  1.000000e+00  2.015000e+03   \n",
      "25%        0.000000e+00      2.521799e+04  4.000000e+00  2.019000e+03   \n",
      "50%        0.000000e+00      4.473182e+04  7.000000e+00  2.021000e+03   \n",
      "75%        0.000000e+00      8.852179e+04  1.000000e+01  2.023000e+03   \n",
      "max        4.000000e+01      1.262114e+06  1.200000e+01  2.025000e+03   \n",
      "\n",
      "       order_quarter  product_weight_kg  product_rating  \n",
      "count   1.127609e+06       1.127609e+06    1.127609e+06  \n",
      "mean    2.645922e+00       7.806976e-01    3.975245e+00  \n",
      "std     1.140795e+00       3.674216e+00    4.536469e-01  \n",
      "min     1.000000e+00       3.000000e-02    3.000000e+00  \n",
      "25%     2.000000e+00       1.800000e-01    3.600000e+00  \n",
      "50%     3.000000e+00       2.100000e-01    4.000000e+00  \n",
      "75%     4.000000e+00       2.400000e-01    4.400000e+00  \n",
      "max     4.000000e+00       4.426000e+01    4.800000e+00  \n"
     ]
    }
   ],
   "source": [
    "print(df.describe())"
   ]
  },
  {
   "cell_type": "code",
   "execution_count": 12,
   "id": "6d9d4719",
   "metadata": {},
   "outputs": [
    {
     "name": "stdout",
     "output_type": "stream",
     "text": [
      "<class 'pandas.core.frame.DataFrame'>\n",
      "RangeIndex: 1127609 entries, 0 to 1127608\n",
      "Data columns (total 35 columns):\n",
      " #   Column                  Non-Null Count    Dtype  \n",
      "---  ------                  --------------    -----  \n",
      " 0   transaction_id          1127609 non-null  object \n",
      " 1   order_date              1127609 non-null  object \n",
      " 2   customer_id             1127609 non-null  object \n",
      " 3   product_id              1127609 non-null  object \n",
      " 4   product_name            1127609 non-null  object \n",
      " 5   category                1127609 non-null  object \n",
      " 6   subcategory             1127609 non-null  object \n",
      " 7   brand                   1127609 non-null  object \n",
      " 8   original_price_inr      1127609 non-null  object \n",
      " 9   discount_percent        1127609 non-null  float64\n",
      " 10  discounted_price_inr    1127609 non-null  float64\n",
      " 11  quantity                1127609 non-null  int64  \n",
      " 12  subtotal_inr            1127609 non-null  float64\n",
      " 13  delivery_charges        1037408 non-null  float64\n",
      " 14  final_amount_inr        1127609 non-null  float64\n",
      " 15  customer_city           1127609 non-null  object \n",
      " 16  customer_state          1127609 non-null  object \n",
      " 17  customer_tier           1127609 non-null  object \n",
      " 18  customer_spending_tier  1127609 non-null  object \n",
      " 19  customer_age_group      992294 non-null   object \n",
      " 20  payment_method          1127609 non-null  object \n",
      " 21  delivery_days           1127609 non-null  object \n",
      " 22  delivery_type           1127609 non-null  object \n",
      " 23  is_prime_member         1127609 non-null  object \n",
      " 24  is_festival_sale        1127609 non-null  object \n",
      " 25  festival_name           349873 non-null   object \n",
      " 26  customer_rating         785913 non-null   object \n",
      " 27  return_status           1127609 non-null  object \n",
      " 28  order_month             1127609 non-null  int64  \n",
      " 29  order_year              1127609 non-null  int64  \n",
      " 30  order_quarter           1127609 non-null  int64  \n",
      " 31  product_weight_kg       1127609 non-null  float64\n",
      " 32  is_prime_eligible       1127609 non-null  object \n",
      " 33  product_rating          1127609 non-null  float64\n",
      " 34  source_file             1127609 non-null  object \n",
      "dtypes: float64(7), int64(4), object(24)\n",
      "memory usage: 301.1+ MB\n",
      "None\n"
     ]
    }
   ],
   "source": [
    "print(df.info())"
   ]
  },
  {
   "cell_type": "code",
   "execution_count": 13,
   "id": "c546f05a",
   "metadata": {},
   "outputs": [
    {
     "name": "stdout",
     "output_type": "stream",
     "text": [
      "Index(['transaction_id', 'order_date', 'customer_id', 'product_id',\n",
      "       'product_name', 'category', 'subcategory', 'brand',\n",
      "       'original_price_inr', 'discount_percent', 'discounted_price_inr',\n",
      "       'quantity', 'subtotal_inr', 'delivery_charges', 'final_amount_inr',\n",
      "       'customer_city', 'customer_state', 'customer_tier',\n",
      "       'customer_spending_tier', 'customer_age_group', 'payment_method',\n",
      "       'delivery_days', 'delivery_type', 'is_prime_member', 'is_festival_sale',\n",
      "       'festival_name', 'customer_rating', 'return_status', 'order_month',\n",
      "       'order_year', 'order_quarter', 'product_weight_kg', 'is_prime_eligible',\n",
      "       'product_rating', 'source_file'],\n",
      "      dtype='object')\n"
     ]
    }
   ],
   "source": [
    "print(df.columns)"
   ]
  },
  {
   "cell_type": "code",
   "execution_count": 14,
   "id": "ca030518",
   "metadata": {},
   "outputs": [
    {
     "name": "stdout",
     "output_type": "stream",
     "text": [
      "transaction_id                 0\n",
      "order_date                     0\n",
      "customer_id                    0\n",
      "product_id                     0\n",
      "product_name                   0\n",
      "category                       0\n",
      "subcategory                    0\n",
      "brand                          0\n",
      "original_price_inr             0\n",
      "discount_percent               0\n",
      "discounted_price_inr           0\n",
      "quantity                       0\n",
      "subtotal_inr                   0\n",
      "delivery_charges           90201\n",
      "final_amount_inr               0\n",
      "customer_city                  0\n",
      "customer_state                 0\n",
      "customer_tier                  0\n",
      "customer_spending_tier         0\n",
      "customer_age_group        135315\n",
      "payment_method                 0\n",
      "delivery_days                  0\n",
      "delivery_type                  0\n",
      "is_prime_member                0\n",
      "is_festival_sale               0\n",
      "festival_name             777736\n",
      "customer_rating           341696\n",
      "return_status                  0\n",
      "order_month                    0\n",
      "order_year                     0\n",
      "order_quarter                  0\n",
      "product_weight_kg              0\n",
      "is_prime_eligible              0\n",
      "product_rating                 0\n",
      "source_file                    0\n",
      "dtype: int64\n"
     ]
    }
   ],
   "source": [
    "print(df.isnull().sum())\n"
   ]
  },
  {
   "cell_type": "code",
   "execution_count": 15,
   "id": "e2cb1fb3",
   "metadata": {},
   "outputs": [
    {
     "name": "stdout",
     "output_type": "stream",
     "text": [
      "Duplicates: 0\n"
     ]
    }
   ],
   "source": [
    "print(\"Duplicates:\", df.duplicated().sum())\n",
    "df = df.drop_duplicates()\n"
   ]
  },
  {
   "cell_type": "code",
   "execution_count": null,
   "id": "6f52e8e4",
   "metadata": {},
   "outputs": [
    {
     "name": "stdout",
     "output_type": "stream",
     "text": [
      "0     2015-01-25\n",
      "1     2015-01-05\n",
      "2     2015-01-24\n",
      "3     2015-01-28\n",
      "4     2015-01-31\n",
      "5     2015-01-04\n",
      "6     2015-01-27\n",
      "7     2015-01-08\n",
      "8     2015-01-18\n",
      "9     2015-01-03\n",
      "10    2015-01-25\n",
      "11    2015-01-15\n",
      "12    2015-01-26\n",
      "13    2015-01-11\n",
      "14    2015-01-08\n",
      "15    2015-01-07\n",
      "16    2015-01-25\n",
      "17    2015-01-08\n",
      "18    2015-01-06\n",
      "19    2015-01-11\n",
      "Name: order_date, dtype: object\n"
     ]
    }
   ],
   "source": [
    "# Question 1\n",
    "import pandas as pd\n",
    "\n",
    "# Load merged dataset\n",
    "df = pd.read_csv(r\"C:\\code\\Amazon_India_Analytics\\data\\raw\\amazon_sales_2015_2025.csv\")\n",
    "\n",
    "# Function to parse multiple date formats\n",
    "def parse_date(x):\n",
    "    for fmt in (\"%d/%m/%Y\", \"%d-%m-%y\", \"%Y-%m-%d\"):\n",
    "        try:\n",
    "            return pd.to_datetime(x, format=fmt, errors=\"raise\")\n",
    "        except:\n",
    "            continue\n",
    "    return pd.NaT   # invalid date\n",
    "\n",
    "# Apply cleaning\n",
    "df[\"order_date\"] = df[\"order_date\"].apply(parse_date)\n",
    "\n",
    "# Standardize format (YYYY-MM-DD as string, but keep NaT for invalid)\n",
    "df[\"order_date\"] = df[\"order_date\"].dt.strftime(\"%Y-%m-%d\")\n",
    "\n",
    "# 👉 Just check first rows, don’t save yet\n",
    "print(df[\"order_date\"].head(20))\n"
   ]
  },
  {
   "cell_type": "code",
   "execution_count": null,
   "id": "01e71c95",
   "metadata": {},
   "outputs": [
    {
     "name": "stdout",
     "output_type": "stream",
     "text": [
      "0     123614.29\n",
      "1      54731.86\n",
      "2      97644.25\n",
      "3      21947.26\n",
      "4      54731.86\n",
      "5     131194.65\n",
      "6      86987.64\n",
      "7      32169.01\n",
      "8      40264.16\n",
      "9      54731.86\n",
      "10     88664.85\n",
      "11     73967.02\n",
      "12     72564.10\n",
      "13    209875.55\n",
      "14     45363.47\n",
      "15     23075.71\n",
      "16     23075.71\n",
      "17    114096.63\n",
      "18     69584.33\n",
      "19     38884.19\n",
      "Name: original_price_inr, dtype: float64\n",
      "count    1.093979e+06\n",
      "mean     8.280461e+04\n",
      "std      4.110272e+05\n",
      "min     -3.001027e+05\n",
      "25%      2.881544e+04\n",
      "50%      4.655045e+04\n",
      "75%      9.424172e+04\n",
      "max      3.337169e+07\n",
      "Name: original_price_inr, dtype: float64\n"
     ]
    }
   ],
   "source": [
    "# Question 2\n",
    "import pandas as pd\n",
    "import numpy as np\n",
    "\n",
    "# Example: already loaded dataset\n",
    "# df = pd.read_csv(...)\n",
    "\n",
    "def clean_price(value):\n",
    "    if pd.isna(value):\n",
    "        return np.nan\n",
    "    value = str(value).strip()\n",
    "    if \"price\" in value.lower():   # handles \"Price on Request\"\n",
    "        return np.nan\n",
    "    # remove currency symbols and commas\n",
    "    value = value.replace(\"₹\", \"\").replace(\",\", \"\").strip()\n",
    "    # if empty after cleaning, set as NaN\n",
    "    if value == \"\":\n",
    "        return np.nan\n",
    "    try:\n",
    "        return float(value)\n",
    "    except:\n",
    "        return np.nan\n",
    "\n",
    "df[\"original_price_inr\"] = df[\"original_price_inr\"].apply(clean_price)\n",
    "\n",
    "# 👉 Check results\n",
    "print(df[\"original_price_inr\"].head(20))\n",
    "print(df[\"original_price_inr\"].describe())\n"
   ]
  },
  {
   "cell_type": "code",
   "execution_count": 20,
   "id": "b6975365",
   "metadata": {},
   "outputs": [
    {
     "name": "stdout",
     "output_type": "stream",
     "text": [
      "0     5.0\n",
      "1     4.5\n",
      "2     NaN\n",
      "3     3.0\n",
      "4     4.0\n",
      "5     4.5\n",
      "6     3.5\n",
      "7     4.0\n",
      "8     5.0\n",
      "9     4.5\n",
      "10    5.0\n",
      "11    4.5\n",
      "12    NaN\n",
      "13    4.0\n",
      "14    4.5\n",
      "15    NaN\n",
      "16    5.0\n",
      "17    NaN\n",
      "18    4.5\n",
      "19    NaN\n",
      "Name: customer_rating, dtype: float64\n",
      "count    785913.000000\n",
      "mean          4.310751\n",
      "std           0.572489\n",
      "min           3.000000\n",
      "25%           4.000000\n",
      "50%           4.500000\n",
      "75%           5.000000\n",
      "max           5.000000\n",
      "Name: customer_rating, dtype: float64\n"
     ]
    }
   ],
   "source": [
    "# Question 3\n",
    "import pandas as pd\n",
    "import numpy as np\n",
    "import re\n",
    "\n",
    "# Assume your ratings column is \"customer_rating\"\n",
    "\n",
    "def clean_rating(value):\n",
    "    if pd.isna(value):\n",
    "        return np.nan\n",
    "    \n",
    "    val = str(value).strip().lower()\n",
    "    \n",
    "    # Case 1: \"4 stars\" → extract number\n",
    "    if \"star\" in val:\n",
    "        num = re.findall(r\"[\\d\\.]+\", val)\n",
    "        return float(num[0]) if num else np.nan\n",
    "    \n",
    "    # Case 2: \"3/5\" or \"2.5/5.0\" → take numerator, scale to 5\n",
    "    if \"/\" in val:\n",
    "        parts = val.split(\"/\")\n",
    "        try:\n",
    "            num = float(parts[0])\n",
    "            denom = float(parts[1])\n",
    "            if denom != 0:\n",
    "                return round((num / denom) * 5, 1)  # normalize to 5\n",
    "        except:\n",
    "            return np.nan\n",
    "    \n",
    "    # Case 3: pure numeric string \"5.0\"\n",
    "    try:\n",
    "        num = float(val)\n",
    "        if 1.0 <= num <= 5.0:   # only accept valid range\n",
    "            return num\n",
    "    except:\n",
    "        return np.nan\n",
    "    \n",
    "    return np.nan\n",
    "\n",
    "# Apply cleaning\n",
    "df[\"customer_rating\"] = df[\"customer_rating\"].apply(clean_rating)\n",
    "\n",
    "# 👉 Check results\n",
    "print(df[\"customer_rating\"].head(20))\n",
    "print(df[\"customer_rating\"].describe())\n"
   ]
  },
  {
   "cell_type": "code",
   "execution_count": 21,
   "id": "129f60d1",
   "metadata": {},
   "outputs": [
    {
     "name": "stdout",
     "output_type": "stream",
     "text": [
      "['Mumbai' 'Allahabad' 'Kolkata' 'Ludhiana' 'Delhi' 'Lucknow' 'Jaipur'\n",
      " 'Bhubaneswar' 'Ahmedabad' 'Bengaluru' 'Pune' 'Kochi' 'Chennai' 'Nagpur'\n",
      " 'Visakhapatnam' 'Mumba' 'Gorakhpur' 'Kanpur' 'Chandigarh' 'Hyderabad']\n"
     ]
    }
   ],
   "source": [
    "# Question 4\n",
    "import pandas as pd\n",
    "\n",
    "# Example mapping for known variations\n",
    "city_mapping = {\n",
    "    \"bangalore\": \"Bengaluru\",\n",
    "    \"bengaluru\": \"Bengaluru\",\n",
    "    \"bengluru\": \"Bengaluru\",\n",
    "    \n",
    "    \"mumbai\": \"Mumbai\",\n",
    "    \"bombay\": \"Mumbai\",\n",
    "    \"mumabi\": \"Mumbai\",\n",
    "    \n",
    "    \"delhi\": \"Delhi\",\n",
    "    \"new delhi\": \"Delhi\",\n",
    "    \"delhii\": \"Delhi\",\n",
    "    \n",
    "    \"kolkata\": \"Kolkata\",\n",
    "    \"calcutta\": \"Kolkata\"\n",
    "}\n",
    "\n",
    "def clean_city(value):\n",
    "    if pd.isna(value):\n",
    "        return None\n",
    "    val = str(value).strip().lower()\n",
    "    return city_mapping.get(val, val.title())  # map if found, else title case\n",
    "\n",
    "# Apply cleaning\n",
    "df[\"customer_city\"] = df[\"customer_city\"].apply(clean_city)\n",
    "\n",
    "# 👉 Check unique values\n",
    "print(df[\"customer_city\"].unique()[:20])\n"
   ]
  },
  {
   "cell_type": "code",
   "execution_count": 22,
   "id": "c51e3ccd",
   "metadata": {},
   "outputs": [
    {
     "name": "stdout",
     "output_type": "stream",
     "text": [
      "    is_prime_member  is_prime_eligible  is_festival_sale\n",
      "0             False               True              True\n",
      "1             False               True             False\n",
      "2             False               True              True\n",
      "3             False               True             False\n",
      "4             False               True             False\n",
      "5             False              False             False\n",
      "6             False              False             False\n",
      "7             False              False             False\n",
      "8             False               True             False\n",
      "9             False               True             False\n",
      "10            False               True              True\n",
      "11            False               True             False\n",
      "12            False               True              True\n",
      "13            False               True             False\n",
      "14            False              False             False\n",
      "15            False               True             False\n",
      "16            False               True              True\n",
      "17            False               True             False\n",
      "18            False               True             False\n",
      "19            False              False             False\n"
     ]
    }
   ],
   "source": [
    "# Question 5\n",
    "import numpy as np\n",
    "\n",
    "# Define mapping for all possible variations\n",
    "bool_map = {\n",
    "    \"true\": True, \"false\": False,\n",
    "    \"yes\": True, \"no\": False,\n",
    "    \"y\": True, \"n\": False,\n",
    "    \"1\": True, \"0\": False,\n",
    "    1: True, 0: False,\n",
    "    True: True, False: False\n",
    "}\n",
    "\n",
    "def clean_boolean(value):\n",
    "    if pd.isna(value):   # keep missing as NaN\n",
    "        return np.nan\n",
    "    val = str(value).strip().lower()\n",
    "    return bool_map.get(val, np.nan)  # fallback to NaN if unknown\n",
    "\n",
    "# Apply cleaning to all boolean-like columns\n",
    "for col in [\"is_prime_member\", \"is_prime_eligible\", \"is_festival_sale\"]:\n",
    "    if col in df.columns:\n",
    "        df[col] = df[col].apply(clean_boolean)\n",
    "\n",
    "# 👉 Check results\n",
    "print(df[[\"is_prime_member\", \"is_prime_eligible\", \"is_festival_sale\"]].head(20))\n"
   ]
  },
  {
   "cell_type": "code",
   "execution_count": 24,
   "id": "b01aa82d",
   "metadata": {},
   "outputs": [
    {
     "name": "stdout",
     "output_type": "stream",
     "text": [
      "category\n",
      "Electronics     1127398\n",
      "Electronicss        211\n",
      "Name: count, dtype: int64\n"
     ]
    }
   ],
   "source": [
    "# Question 6\n",
    "# # Example mapping dictionary\n",
    "category_map = {\n",
    "    \"electronics\": \"Electronics\",\n",
    "    \"electronic\": \"Electronics\",\n",
    "    \"electronics & accessories\": \"Electronics\",\n",
    "    \"mobile\": \"Mobiles\",\n",
    "    \"mobiles\": \"Mobiles\",\n",
    "    \"smartphone\": \"Mobiles\",\n",
    "    \"clothing\": \"Clothing\",\n",
    "    \"apparel\": \"Clothing\",\n",
    "    \"fashion\": \"Clothing\",\n",
    "    \"home appliances\": \"Home Appliances\",\n",
    "    \"appliance\": \"Home Appliances\",\n",
    "    \"books\": \"Books\",\n",
    "    \"book\": \"Books\",\n",
    "}\n",
    "\n",
    "def clean_category(value):\n",
    "    if pd.isna(value):\n",
    "        return np.nan\n",
    "    val = str(value).strip().lower()\n",
    "    return category_map.get(val, val.title())   # fallback: Title Case\n",
    "\n",
    "# Apply to your actual column\n",
    "df[\"category\"] = df[\"category\"].apply(clean_category)\n",
    "\n",
    "# 👉 Check result\n",
    "print(df[\"category\"].value_counts().head(20))\n"
   ]
  },
  {
   "cell_type": "code",
   "execution_count": 25,
   "id": "52ea6256",
   "metadata": {},
   "outputs": [
    {
     "name": "stdout",
     "output_type": "stream",
     "text": [
      "delivery_days\n",
      "3.0     288488\n",
      "1.0     217298\n",
      "4.0     206438\n",
      "5.0     136608\n",
      "2.0     126280\n",
      "6.0     102668\n",
      "7.0      34116\n",
      "0.0       6687\n",
      "1.5       4534\n",
      "NaN       2317\n",
      "15.0      2175\n",
      "Name: count, dtype: int64\n"
     ]
    }
   ],
   "source": [
    "# Question 7\n",
    "import re\n",
    "import numpy as np\n",
    "\n",
    "def clean_delivery_days(value):\n",
    "    if pd.isna(value):\n",
    "        return np.nan\n",
    "    \n",
    "    val = str(value).strip().lower()\n",
    "\n",
    "    # Handle \"Same Day\"\n",
    "    if \"same\" in val:\n",
    "        return 0\n",
    "\n",
    "    # Handle ranges like \"1-2 days\"\n",
    "    match = re.match(r\"(\\d+)\\s*-\\s*(\\d+)\", val)\n",
    "    if match:\n",
    "        low, high = map(int, match.groups())\n",
    "        return (low + high) / 2   # take average\n",
    "\n",
    "    # Extract single number if present\n",
    "    match = re.search(r\"\\d+\", val)\n",
    "    if match:\n",
    "        days = int(match.group())\n",
    "        # Remove invalid values\n",
    "        if days < 0 or days > 30:   # cap at 30\n",
    "            return np.nan\n",
    "        return days\n",
    "\n",
    "    return np.nan  # fallback for unknown text\n",
    "\n",
    "# Apply cleaning\n",
    "if \"delivery_days\" in df.columns:\n",
    "    df[\"delivery_days\"] = df[\"delivery_days\"].apply(clean_delivery_days)\n",
    "\n",
    "# 👉 Check results\n",
    "print(df[\"delivery_days\"].value_counts(dropna=False).head(20))\n"
   ]
  },
  {
   "cell_type": "code",
   "execution_count": 26,
   "id": "defe3625",
   "metadata": {},
   "outputs": [
    {
     "name": "stdout",
     "output_type": "stream",
     "text": [
      "🔎 Total potential duplicates: 11222\n",
      "         transaction_id  order_date         customer_id   product_id  \\\n",
      "279   TXN_2015_00000280  2015-01-29  CUST_2015_00010848  PROD_000027   \n",
      "814   TXN_2015_00000815  2015-01-31  CUST_2015_00001928  PROD_000059   \n",
      "941   TXN_2015_00000942  2015-01-03  CUST_2015_00007653  PROD_000075   \n",
      "996   TXN_2015_00000997         NaN  CUST_2015_00003254  PROD_000032   \n",
      "1390  TXN_2015_00001391  2015-01-15  CUST_2015_00005080  PROD_001640   \n",
      "1577  TXN_2015_00001578  2015-01-24  CUST_2015_00002994  PROD_000063   \n",
      "1626  TXN_2015_00001627  2015-01-12  CUST_2015_00007323  PROD_000070   \n",
      "1809  TXN_2015_00001810  2015-01-31  CUST_2015_00005511  PROD_000070   \n",
      "1851  TXN_2015_00001852  2015-01-23  CUST_2015_00000037  PROD_000053   \n",
      "1999  TXN_2015_00002000  2015-01-01  CUST_2015_00008125  PROD_000060   \n",
      "\n",
      "                           product_name     category  subcategory    brand  \\\n",
      "279         Samsung Galaxy S6 16GB Blue  Electronics  Smartphones  Samsung   \n",
      "814        OnePlus OnePlus X 32GB Black  Electronics  Smartphones  OnePlus   \n",
      "941           Xiaomi Redmi 2 64GB White  Electronics  Smartphones   Xiaomi   \n",
      "996   Samsung Galaxy S6 Edge 16GB White  Electronics  Smartphones  Samsung   \n",
      "1390           MSI Aspire 4GB RAM Black  Electronics      Laptops      MSI   \n",
      "1577        OnePlus OnePlus X 32GB Blue  Electronics  Smartphones  OnePlus   \n",
      "1626          Xiaomi Redmi 2 16GB Black  Electronics  Smartphones   Xiaomi   \n",
      "1809          Xiaomi Redmi 2 16GB Black  Electronics  Smartphones   Xiaomi   \n",
      "1851       OnePlus OnePlus 2 32GB Black  Electronics  Smartphones  OnePlus   \n",
      "1999       OnePlus OnePlus X 16GB White  Electronics  Smartphones  OnePlus   \n",
      "\n",
      "      original_price_inr  discount_percent  ...      festival_name  \\\n",
      "279                  NaN             21.03  ...                NaN   \n",
      "814             57182.39              0.00  ...                NaN   \n",
      "941             35581.67              0.00  ...                NaN   \n",
      "996             97905.92              0.00  ...                NaN   \n",
      "1390            69584.33             12.76  ...                NaN   \n",
      "1577            75380.48             45.58  ...  Republic Day Sale   \n",
      "1626            29534.70              6.24  ...                NaN   \n",
      "1809            29534.70             26.41  ...                NaN   \n",
      "1851           102649.14             19.30  ...  Republic Day Sale   \n",
      "1999            94029.64              0.00  ...                NaN   \n",
      "\n",
      "      customer_rating  return_status  order_month  order_year order_quarter  \\\n",
      "279               4.0      Delivered            1        2015             1   \n",
      "814               5.0      Delivered            1        2015             1   \n",
      "941               NaN      Delivered            1        2015             1   \n",
      "996               4.0      Delivered            1        2015             1   \n",
      "1390              4.5       Returned            1        2015             1   \n",
      "1577              5.0      Delivered            1        2015             1   \n",
      "1626              NaN      Delivered            1        2015             1   \n",
      "1809              4.5      Delivered            1        2015             1   \n",
      "1851              5.0      Delivered            1        2015             1   \n",
      "1999              4.0       Returned            1        2015             1   \n",
      "\n",
      "     product_weight_kg is_prime_eligible product_rating            source_file  \n",
      "279               0.18              True            3.4  amazon_india_2015.csv  \n",
      "814               0.20              True            3.8  amazon_india_2015.csv  \n",
      "941               0.22             False            3.6  amazon_india_2015.csv  \n",
      "996               0.20              True            4.3  amazon_india_2015.csv  \n",
      "1390              2.66              True            3.2  amazon_india_2015.csv  \n",
      "1577              0.18              True            3.8  amazon_india_2015.csv  \n",
      "1626              0.20              True            4.2  amazon_india_2015.csv  \n",
      "1809              0.20              True            4.2  amazon_india_2015.csv  \n",
      "1851              0.20              True            4.6  amazon_india_2015.csv  \n",
      "1999              0.24              True            3.3  amazon_india_2015.csv  \n",
      "\n",
      "[10 rows x 35 columns]\n"
     ]
    }
   ],
   "source": [
    "# Question 8\n",
    "# Define the key columns that identify a unique transaction\n",
    "duplicate_cols = [\"customer_id\", \"product_id\", \"order_date\", \"final_amount_inr\"]\n",
    "\n",
    "# Find duplicates\n",
    "duplicates = df[df.duplicated(subset=duplicate_cols, keep=False)]\n",
    "\n",
    "print(\"🔎 Total potential duplicates:\", len(duplicates))\n",
    "print(duplicates.head(10))\n"
   ]
  },
  {
   "cell_type": "code",
   "execution_count": 29,
   "id": "7b1ab8af",
   "metadata": {},
   "outputs": [
    {
     "name": "stdout",
     "output_type": "stream",
     "text": [
      "          product_id  original_price_inr  final_amount_inr\n",
      "498131   PROD_000059            70431.71          92319.94\n",
      "1097132  PROD_001477            21780.52          21780.52\n",
      "236658   PROD_000437            41209.72          41209.72\n",
      "192132   PROD_000479            30149.16          26257.43\n",
      "497738   PROD_000025           105744.87          96120.23\n",
      "852907   PROD_001790                 NaN          18799.50\n",
      "564050   PROD_001627           166553.87         273246.46\n",
      "459397   PROD_001918             7147.77           6091.63\n",
      "1124498  PROD_000245            76742.30          76742.30\n",
      "834860   PROD_000794            29214.34          21853.89\n"
     ]
    }
   ],
   "source": [
    "# Question 9\n",
    "def fix_price_outliers(df, col=\"final_amount_inr\"):\n",
    "    df = df.copy()\n",
    "    \n",
    "    # Group by product and calculate median price\n",
    "    product_median = df.groupby(\"product_id\")[col].median()\n",
    "    \n",
    "    def adjust(row):\n",
    "        if pd.isna(row[col]):\n",
    "            return row[col]\n",
    "        \n",
    "        median = product_median.get(row[\"product_id\"], np.nan)\n",
    "        if pd.isna(median) or median == 0:\n",
    "            return row[col]\n",
    "        \n",
    "        if row[col] > 50 * median:   # too high\n",
    "            return row[col] / 100\n",
    "        elif row[col] < 0.01 * median:  # too low\n",
    "            return row[col] * 100\n",
    "        else:\n",
    "            return row[col]\n",
    "    \n",
    "    df[col] = df.apply(adjust, axis=1)\n",
    "    return df\n",
    "\n",
    "df = fix_price_outliers(df, \"final_amount_inr\")\n",
    "df = fix_price_outliers(df, \"original_price_inr\")\n",
    "\n",
    "print(df[[\"product_id\", \"original_price_inr\", \"final_amount_inr\"]].sample(10))\n",
    "\n"
   ]
  },
  {
   "cell_type": "code",
   "execution_count": 31,
   "id": "f0fd6ab1",
   "metadata": {},
   "outputs": [],
   "source": [
    "# Question 10\n",
    "payment_map = {\n",
    "    # UPI variations\n",
    "    \"upi\": \"UPI\",\n",
    "    \"phonepe\": \"UPI\",\n",
    "    \"googlepay\": \"UPI\",\n",
    "    \"gpay\": \"UPI\",\n",
    "    \"paytm upi\": \"UPI\",\n",
    "    \n",
    "    # Credit Card variations\n",
    "    \"credit card\": \"Credit Card\",\n",
    "    \"credit_card\": \"Credit Card\",\n",
    "    \"cc\": \"Credit Card\",\n",
    "    \n",
    "    # Debit Card variations\n",
    "    \"debit card\": \"Debit Card\",\n",
    "    \"debit_card\": \"Debit Card\",\n",
    "    \"dc\": \"Debit Card\",\n",
    "    \n",
    "    # Cash on Delivery variations\n",
    "    \"cod\": \"Cash on Delivery\",\n",
    "    \"c.o.d\": \"Cash on Delivery\",\n",
    "    \"cash on delivery\": \"Cash on Delivery\",\n",
    "    \n",
    "    # Netbanking\n",
    "    \"net banking\": \"Net Banking\",\n",
    "    \"netbanking\": \"Net Banking\",\n",
    "    \"internet banking\": \"Net Banking\",\n",
    "    \n",
    "    # Wallets\n",
    "    \"amazon pay\": \"Wallet\",\n",
    "    \"paytm wallet\": \"Wallet\",\n",
    "    \"mobikwik\": \"Wallet\",\n",
    "}\n"
   ]
  },
  {
   "cell_type": "code",
   "execution_count": 32,
   "id": "00668d26",
   "metadata": {},
   "outputs": [],
   "source": [
    "def clean_payment_method(value):\n",
    "    if pd.isna(value):\n",
    "        return np.nan\n",
    "    val = str(value).strip().lower()\n",
    "    return payment_map.get(val, val.title())   # fallback: Title Case\n"
   ]
  },
  {
   "cell_type": "code",
   "execution_count": 33,
   "id": "361bef6a",
   "metadata": {},
   "outputs": [
    {
     "name": "stdout",
     "output_type": "stream",
     "text": [
      "payment_method\n",
      "UPI                 384228\n",
      "Cash on Delivery    322831\n",
      "Credit Card         172261\n",
      "Debit Card          140202\n",
      "Net Banking          64971\n",
      "Wallet               22821\n",
      "Bnpl                 20295\n",
      "Name: count, dtype: int64\n"
     ]
    }
   ],
   "source": [
    "if \"payment_method\" in df.columns:\n",
    "    df[\"payment_method\"] = df[\"payment_method\"].apply(clean_payment_method)\n",
    "\n",
    "# Check cleaned values\n",
    "print(df[\"payment_method\"].value_counts())\n"
   ]
  },
  {
   "cell_type": "code",
   "execution_count": 35,
   "id": "9c70c955",
   "metadata": {},
   "outputs": [
    {
     "name": "stdout",
     "output_type": "stream",
     "text": [
      "✅ Cleaned data saved at: C:\\code\\Amazon_India_Analytics\\data\\cleaned\\amazon_sales_cleaned.csv\n"
     ]
    }
   ],
   "source": [
    "# Correct file path (no double C)\n",
    "output_path = r\"C:\\code\\Amazon_India_Analytics\\data\\cleaned\\amazon_sales_cleaned.csv\"\n",
    "\n",
    "# Save cleaned dataset\n",
    "df.to_csv(output_path, index=False)\n",
    "\n",
    "print(f\"✅ Cleaned data saved at: {output_path}\")\n"
   ]
  }
 ],
 "metadata": {
  "kernelspec": {
   "display_name": "Python 3",
   "language": "python",
   "name": "python3"
  },
  "language_info": {
   "codemirror_mode": {
    "name": "ipython",
    "version": 3
   },
   "file_extension": ".py",
   "mimetype": "text/x-python",
   "name": "python",
   "nbconvert_exporter": "python",
   "pygments_lexer": "ipython3",
   "version": "3.12.9"
  }
 },
 "nbformat": 4,
 "nbformat_minor": 5
}
